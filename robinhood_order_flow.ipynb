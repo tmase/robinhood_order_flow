{
 "cells": [
  {
   "cell_type": "markdown",
   "metadata": {},
   "source": [
    "# Parsing Robinhood's order flow with Python, by Tom Mason\n",
    "This notebook pulls data from the .xml files that Robinhood files each quarter wherein it discloses the payments it receives from venues for routing order flow to them. The data is reported at a very granular level (type of security and market venue), so this script sums all the payments together to arrive at a total for each month. The .xml files can be found on Robinhood's website."
   ]
  },
  {
   "cell_type": "code",
   "execution_count": 1,
   "metadata": {},
   "outputs": [],
   "source": [
    "import pandas as pd\n",
    "import numpy as np"
   ]
  },
  {
   "cell_type": "code",
   "execution_count": 4,
   "metadata": {},
   "outputs": [],
   "source": [
    "# Create a function that pulls all .xml files from the folder with the 606 filings in it\n",
    "def get_xml_files(directory):\n",
    "    file_list = []\n",
    "    import os\n",
    "    for filename in os.listdir(directory):\n",
    "        if filename.endswith(\".xml\"):\n",
    "            file_list.append(directory + \"/\" + filename)\n",
    "    return file_list"
   ]
  },
  {
   "cell_type": "code",
   "execution_count": 2,
   "metadata": {},
   "outputs": [],
   "source": [
    "# Create a function to parse the xml files\n",
    "def parse_xml(file_name):\n",
    "    import xml.etree.ElementTree as et\n",
    "    tree = et.parse(file_name)\n",
    "    root = tree.getroot()\n",
    "    full_list = []\n",
    "    company = root.find('bd').text\n",
    "    monthly_orders = []\n",
    "    for month in root.iter('rMonthly'):\n",
    "        mon = int(month.find('mon').text)\n",
    "        year = int(month.find('year').text)\n",
    "        orders = 0\n",
    "        for exchanges in month:\n",
    "            for venues in exchanges:\n",
    "                for venue in venues:\n",
    "                    mkt_orders = float(venue.find('netPmtPaidRecvMarketOrdersUsd').text)\n",
    "                    limit_orders = float(venue.find('netPmtPaidRecvMarketableLimitOrdersUsd').text)\n",
    "                    non_limit_orders = float(venue.find('netPmtPaidRecvNonMarketableLimitOrdersUsd').text)\n",
    "                    other_orders = float(venue.find('netPmtPaidRecvOtherOrdersUsd').text)\n",
    "                    orders = orders + mkt_orders + limit_orders + non_limit_orders + other_orders\n",
    "        # Convert to millions of U.S. dollars\n",
    "        monthly_orders.append([mon,year,orders / 1000000])\n",
    "    return monthly_orders"
   ]
  },
  {
   "cell_type": "code",
   "execution_count": 6,
   "metadata": {},
   "outputs": [],
   "source": [
    "file_list = get_xml_files('robinhood_files')\n",
    "xml = []\n",
    "for file_name in file_list:\n",
    "    xml = xml + parse_xml(file_name)"
   ]
  },
  {
   "cell_type": "code",
   "execution_count": 7,
   "metadata": {},
   "outputs": [],
   "source": [
    "df = pd.DataFrame(xml,columns=['month','year','total_payments_mil'])"
   ]
  },
  {
   "cell_type": "code",
   "execution_count": 9,
   "metadata": {},
   "outputs": [],
   "source": [
    "df.to_csv('robinhood.csv')"
   ]
  }
 ],
 "metadata": {
  "kernelspec": {
   "display_name": "Python 3",
   "language": "python",
   "name": "python3"
  },
  "language_info": {
   "codemirror_mode": {
    "name": "ipython",
    "version": 3
   },
   "file_extension": ".py",
   "mimetype": "text/x-python",
   "name": "python",
   "nbconvert_exporter": "python",
   "pygments_lexer": "ipython3",
   "version": "3.8.5"
  }
 },
 "nbformat": 4,
 "nbformat_minor": 4
}
